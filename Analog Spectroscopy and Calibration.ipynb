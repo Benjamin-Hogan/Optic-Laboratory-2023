{
 "cells": [
  {
   "cell_type": "code",
   "execution_count": 2,
   "id": "6906513c",
   "metadata": {},
   "outputs": [],
   "source": [
    "import matplotlib.pyplot as plt\n",
    "import numpy as np\n",
    "import pandas as pd\n",
    "from scipy.optimize import curve_fit"
   ]
  },
  {
   "cell_type": "code",
   "execution_count": 3,
   "id": "21efbaf2",
   "metadata": {},
   "outputs": [],
   "source": [
    "# The slope of the straight line fit going through the orgin is the diffraction grating (d)\n",
    "def fitfunc(x, m):\n",
    "    return(m*x)"
   ]
  },
  {
   "cell_type": "code",
   "execution_count": 8,
   "id": "4cb2521d",
   "metadata": {},
   "outputs": [],
   "source": [
    "# Krypton Data\n",
    "Kr_theta = np.array(np.radians([45.8, 42.5, 32.9, 31.9, 30.2, 29.8, 29.1]) )\n",
    "Kr_theta_unc = np.radians(np.ones(len(Kr_theta)))\n",
    "Kr_lam = np.array([587.09, 557.03, 450.24, 446.37, 445.39, 443.17, 439.99]) # Nanometers\n",
    "\n",
    "\n",
    "#Hydrogen Data\n",
    "H_theta = np.array(np.radians([54.2, 35.6, 31]) )\n",
    "H_theta_unc = np.radians(np.ones(len(H_theta))*.5)\n",
    "H_lam = np.array([656.28, 486.14, 434.05])\n"
   ]
  },
  {
   "cell_type": "code",
   "execution_count": 10,
   "id": "bd445915",
   "metadata": {},
   "outputs": [
    {
     "name": "stdout",
     "output_type": "stream",
     "text": [
      "The slope and value of d for Krypton is 788.6584362509735± [394.96516301] \n",
      "  The slope and value of d for Hydrogen is 788.6584362509735± [1179.34884456] \n",
      "The average slope and value of d is 762.1740562234233\n"
     ]
    },
    {
     "data": {
      "image/png": "[encoded data removed]",
      "text/plain": [
       "<Figure size 432x288 with 1 Axes>"
      ]
     },
     "metadata": {
      "needs_background": "light"
     },
     "output_type": "display_data"
    }
   ],
   "source": [
    "popt_Kr, pcov_Kr = curve_fit(fitfunc, Kr_theta, Kr_lam ,sigma=Kr_theta_unc)\n",
    "popt_H, pcov_H = curve_fit(fitfunc, H_theta, H_lam ,sigma=H_theta_unc)\n",
    "\n",
    "#Slope \n",
    "d1 = popt_Kr[0]\n",
    "d2 = popt_H[0]\n",
    "#Unc. In slope\n",
    "dd_Kr =  pcov_Kr[0]\n",
    "dd_H = pcov_H[0]\n",
    "\n",
    "print(f'The slope and value of d for Krypton is {d1}\\u00B1 {dd_Kr} \\n  The slope and value of d for Hydrogen is {d1}\\u00B1 {dd_H} ')\n",
    "\n",
    "#Calibration value of d\n",
    "d = (d1 + d2) / 2\n",
    "d_unc = ( dd_Kr + dd_H ) / 2\n",
    "print(f'The average slope and value of d is {d}')\n",
    "\n",
    "#Plot \n",
    "plt.figure()\n",
    "plt.errorbar(Kr_theta, Kr_lam, xerr=Kr_theta_unc, fmt='.', label='Data')\n",
    "plt.plot(Kr_theta, fitfunc(Kr_theta, d1),'--', label='Calibration Line Kr' )\n",
    "plt.errorbar(H_theta, H_lam,  xerr=H_theta_unc , fmt='.', label='Data')\n",
    "plt.plot(H_theta, fitfunc(H_theta, d2),'--', label='Calibration Line H' )\n",
    "plt.plot()\n",
    "plt.ylabel('Wavelength [nm]')\n",
    "plt.xlabel('Sin(Theta)')\n",
    "plt.title('Calibration Graph')\n",
    "plt.grid()\n",
    "plt.legend()\n",
    "plt.savefig('Calibration Graph')"
   ]
  },
  {
   "cell_type": "code",
   "execution_count": 11,
   "id": "fe83f35f",
   "metadata": {},
   "outputs": [
    {
     "name": "stdout",
     "output_type": "stream",
     "text": [
      "20500587.962243162 48740128.92600598\n",
      "3416764.6603738605 24370064.46300299\n"
     ]
    }
   ],
   "source": [
    "fitting1 = fitfunc(Kr_theta, d1)\n",
    "fitting2 = fitfunc(H_theta, d2)\n",
    "\n",
    "#Finding the Chi Square \n",
    "residual1 = Kr_lam - fitting1\n",
    "residual2 = H_lam - fitting2\n",
    "chi_sqr1 = np.sum( residual1**2 / Kr_theta_unc**2)\n",
    "chi_sqr2 = np.sum(residual2**2 / H_theta_unc**2)\n",
    "\n",
    "#Finding Reduced Chi Square\n",
    "rchi_sqr1 = chi_sqr1 /(len(Kr_lam)-1)\n",
    "rchi_sqr2 = chi_sqr2 /(len(H_lam)-1)\n",
    "\n",
    "print(chi_sqr1, chi_sqr2)\n",
    "print(rchi_sqr1, rchi_sqr2)"
   ]
  },
  {
   "cell_type": "code",
   "execution_count": 14,
   "id": "bb6a1352",
   "metadata": {},
   "outputs": [
    {
     "name": "stdout",
     "output_type": "stream",
     "text": [
      "The wavelength of the sodium doublet 575.2200620290672\n",
      "The wavelength of the sodium doublet 574.3464673320221\n",
      "The wavelength of the sodium doublet 548.2621334270572\n",
      "The wavelength of the sodium doublet 547.3372332468796\n",
      "The wavelength of the sodium doublet 525.610124899962\n",
      "The wavelength of the sodium doublet 524.6459990764619\n",
      "The wavelength of the sodium doublet 476.54373150329235\n",
      "The wavelength of the sodium doublet 475.5048428190264\n",
      "The wavelength of the sodium doublet 402.7619890392824\n",
      "The wavelength of the sodium doublet 401.63203610414354\n"
     ]
    }
   ],
   "source": [
    "Na_theta = np.array(np.radians([49,48.9,46,45.9,43.6,43.5,38.7,38.6,31.9,31.8]))\n",
    "Na_theta_unc = np.radians(np.ones(len(Na_theta))*.5)\n",
    "\n",
    "def lam(d,theta,n):\n",
    "    return(d * np.sin(theta) / n)\n",
    "\n",
    "Na_lam = lam(d, Na_theta, 1)\n",
    "\n",
    "for i in range(len(Na_lam)):\n",
    "    print(f\"The wavelength of the sodium doublet {Na_lam[i]}\")"
   ]
  },
  {
   "cell_type": "code",
   "execution_count": null,
   "id": "36d742fd",
   "metadata": {},
   "outputs": [],
   "source": []
  }
 ],
 "metadata": {
  "kernelspec": {
   "display_name": "Python 3 (ipykernel)",
   "language": "python",
   "name": "python3"
  },
  "language_info": {
   "codemirror_mode": {
    "name": "ipython",
    "version": 3
   },
   "file_extension": ".py",
   "mimetype": "text/x-python",
   "name": "python",
   "nbconvert_exporter": "python",
   "pygments_lexer": "ipython3",
   "version": "3.9.12"
  }
 },
 "nbformat": 4,
 "nbformat_minor": 5
}
