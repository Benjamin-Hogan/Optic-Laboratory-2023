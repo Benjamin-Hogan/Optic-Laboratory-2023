{
 "cells": [
  {
   "cell_type": "code",
   "execution_count": 62,
   "id": "d1967137",
   "metadata": {},
   "outputs": [],
   "source": [
    "import numpy as np\n",
    "import matplotlib.pyplot as plt\n",
    "from scipy.special import jv\n",
    "import scipy.optimize as spo"
   ]
  },
  {
   "cell_type": "code",
   "execution_count": 143,
   "id": "b676f6a1",
   "metadata": {},
   "outputs": [],
   "source": [
    "# Intial Measurments (m)\n",
    "lam = 632.8e-9 #wavelenth\n",
    "k = ( 2 * np.pi ) / lam #wave number\n",
    "r = 55e-7/2 \n",
    "L = 0.01 #length\n",
    "dL = 0.002 #Unc in length"
   ]
  },
  {
   "cell_type": "code",
   "execution_count": 144,
   "id": "aa30ada3",
   "metadata": {},
   "outputs": [],
   "source": [
    "def irad(a,x,k,I0, L):\n",
    "    u = k * r * k / L\n",
    "    q = jv(1, u)\n",
    "    return ((2 * q / u)**2 ) * I0\n",
    "\n",
    "def chi_sqr(real,guess,dy):\n",
    "    di = real - guess  / dy \n",
    "    chi_2 = di**2\n",
    "    return(chi_2)"
   ]
  },
  {
   "cell_type": "code",
   "execution_count": 148,
   "id": "3199d185",
   "metadata": {},
   "outputs": [
    {
     "name": "stdout",
     "output_type": "stream",
     "text": [
      " I0 is equal to 0.39456978482566774 and the corresponding x value is 0.001364\n",
      "0.39436225554313137\n",
      "χ² =  0.008728343706202853\n",
      "χ² Reduced =  8.607834029785851e-06\n",
      "I0 =  0.39456978482566774\n",
      "a =  1.6800000000000015e-05 ± 0.02 a adjusted = 1.200000000000001e-06\n",
      "dof =  1014\n"
     ]
    },
    {
     "name": "stderr",
     "output_type": "stream",
     "text": [
      "/var/folders/34/1gqkym5j2rb879qqc4w6jjs40000gn/T/ipykernel_67984/1985155919.py:35: RuntimeWarning: invalid value encountered in true_divide\n",
      "  y = ((((2*jv(1,K))/(K))**2)*I0)\n",
      "/var/folders/34/1gqkym5j2rb879qqc4w6jjs40000gn/T/ipykernel_67984/1985155919.py:40: RuntimeWarning: invalid value encountered in true_divide\n",
      "  y1 = ((((2*jv(1,K))/(K))**2)*I0)\n"
     ]
    },
    {
     "data": {
      "image/png": "[encoded data removed]",
      "text/plain": [
       "<Figure size 432x288 with 1 Axes>"
      ]
     },
     "metadata": {
      "needs_background": "light"
     },
     "output_type": "display_data"
    }
   ],
   "source": [
    "# Irradiance taken from an image cut at pixel 633\n",
    "irradiance = np.genfromtxt('/Users/benjaminhogan/Optics Code/Chapter 4/Irradiance.txt')-.004\n",
    "x = np.arange(len(irradiance))*r # Pixel Length\n",
    "\n",
    "# Shifting the axis such that y max is centered at orgin\n",
    "max_y = max(irradiance)  \n",
    "max_x = x[irradiance.argmax()]  \n",
    "x = x - max_x\n",
    "\n",
    "# Another inital condition\n",
    "I0 = max_y\n",
    "print (f' I0 is equal to {max_y} and the corresponding x value is {max_x}')\n",
    "\n",
    "dof = len(x) - 1 #setting the degrees of freedom\n",
    "dn2 = 0.02   # uncertainty in the irradiance (Empirical)\n",
    "\n",
    "\n",
    "# Aperture \n",
    "a = np.arange(15e-6, 17e-6, 1e-7)\n",
    "#I0 = np.arange(0.5, .6, .01)\n",
    "\n",
    "chi_2 = np.zeros(len(a))\n",
    "\n",
    "for i in range(len(a)):\n",
    "    function = irad(a,x,k,I0,L)\n",
    "    chi_2[i] = (chi_sqr(function, irradiance[i], dn2 ))\n",
    "\n",
    "chi_min = chi_2.min()\n",
    "chi_reduced = chi_min / dof\n",
    "index = np.unravel_index(np.argmin(chi_2),chi_2.shape)\n",
    "\n",
    "a = a[int(index[0])]\n",
    "\n",
    "K = (k*a*x)/L\n",
    "y = ((((2*jv(1,K))/(K))**2)*I0)\n",
    "print(max(y))\n",
    "\n",
    "\n",
    "K = (k*15e-6*x)/L\n",
    "y1 = ((((2*jv(1,K))/(K))**2)*I0)\n",
    "\n",
    "plt.figure()\n",
    "plt.plot(x, irradiance, label = \"Raw\", color = 'red')\n",
    "plt.xlabel(\"x cut [m]\")\n",
    "plt.ylabel(\"Irradiance\")\n",
    "plt.title(\"Irradiance\")    \n",
    "plt.grid() # Plotting the original data\n",
    "plt.plot(x, y, color = 'blue', label = 'Fit', linestyle='--')\n",
    "\n",
    "plt.legend()\n",
    "plt.savefig('Irradaince.png')\n",
    "\n",
    "print('\\u03C7\\u00b2 = ', chi_min)\n",
    "print('\\u03C7\\u00b2 Reduced = ', chi_reduced)\n",
    "print('I0 = ', I0)\n",
    "print('a = ', a, u\"\\u00B1\", dn2, f\"a adjusted = {a/14}\")\n",
    "print('dof = ', dof)"
   ]
  },
  {
   "cell_type": "code",
   "execution_count": 146,
   "id": "f1b02689",
   "metadata": {},
   "outputs": [
    {
     "data": {
      "text/plain": [
       "array([4.38086492e-09, 2.41046035e-07, 8.41415081e-07, ...,\n",
       "       4.72295938e-05, 5.02614334e-05, 5.31521398e-05])"
      ]
     },
     "execution_count": 146,
     "metadata": {},
     "output_type": "execute_result"
    }
   ],
   "source": []
  },
  {
   "cell_type": "code",
   "execution_count": null,
   "id": "44d86a0c",
   "metadata": {},
   "outputs": [],
   "source": []
  }
 ],
 "metadata": {
  "kernelspec": {
   "display_name": "Python 3 (ipykernel)",
   "language": "python",
   "name": "python3"
  },
  "language_info": {
   "codemirror_mode": {
    "name": "ipython",
    "version": 3
   },
   "file_extension": ".py",
   "mimetype": "text/x-python",
   "name": "python",
   "nbconvert_exporter": "python",
   "pygments_lexer": "ipython3",
   "version": "3.9.12"
  }
 },
 "nbformat": 4,
 "nbformat_minor": 5
}
